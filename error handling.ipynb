{
 "cells": [
  {
   "cell_type": "code",
   "execution_count": 2,
   "metadata": {},
   "outputs": [],
   "source": [
    "def ask_for_integer():\n",
    "    result = \"\"\n",
    "    while type(result) != int:\n",
    "        try:\n",
    "            result = int(input(\"Please provide an integer: \"))\n",
    "        except:\n",
    "            print('This is not a number')\n",
    "        finally:\n",
    "            print('end of try / except / finally')"
   ]
  },
  {
   "cell_type": "code",
   "execution_count": 4,
   "metadata": {},
   "outputs": [
    {
     "name": "stdout",
     "output_type": "stream",
     "text": [
      "Please provide an integer: s\n",
      "This is not a number\n",
      "end of try / except / finally\n",
      "Please provide an integer: d\n",
      "This is not a number\n",
      "end of try / except / finally\n",
      "Please provide an integer: f\n",
      "This is not a number\n",
      "end of try / except / finally\n",
      "Please provide an integer: 1\n",
      "end of try / except / finally\n"
     ]
    }
   ],
   "source": [
    "ask_for_integer()"
   ]
  },
  {
   "cell_type": "code",
   "execution_count": null,
   "metadata": {},
   "outputs": [],
   "source": []
  },
  {
   "cell_type": "code",
   "execution_count": null,
   "metadata": {},
   "outputs": [],
   "source": []
  }
 ],
 "metadata": {
  "kernelspec": {
   "display_name": "Python 3",
   "language": "python",
   "name": "python3"
  },
  "language_info": {
   "codemirror_mode": {
    "name": "ipython",
    "version": 3
   },
   "file_extension": ".py",
   "mimetype": "text/x-python",
   "name": "python",
   "nbconvert_exporter": "python",
   "pygments_lexer": "ipython3",
   "version": "3.7.0"
  }
 },
 "nbformat": 4,
 "nbformat_minor": 2
}
